{
 "cells": [
  {
   "attachments": {},
   "cell_type": "markdown",
   "metadata": {},
   "source": [
    "# Machine Learning Model - Tiki Book Dataset\n",
    "## 1. Data preprocessing\n",
    "#### Library import"
   ]
  },
  {
   "cell_type": "code",
   "execution_count": 1,
   "metadata": {},
   "outputs": [],
   "source": [
    "# Basic libraries\n",
    "import re\n",
    "import pandas as pd\n",
    "import numpy as np\n",
    "import matplotlib.pyplot as plt\n",
    "import seaborn as sns\n",
    "from wordcloud import WordCloud\n",
    "\n",
    "# Sklearn tools\n",
    "from sklearn.preprocessing import LabelEncoder, StandardScaler\n",
    "from sklearn.model_selection import train_test_split\n",
    "from sklearn.feature_extraction.text import TfidfVectorizer\n",
    "from sklearn.decomposition import TruncatedSVD\n",
    "\n",
    "# Sklearn metrics\n",
    "from sklearn.metrics import mean_absolute_error, mean_squared_error, classification_report\n",
    "\n",
    "# Sklearn models\n",
    "from sklearn.linear_model import LinearRegression\n",
    "from sklearn.ensemble import RandomForestClassifier\n",
    "from sklearn.cluster import KMeans\n"
   ]
  },
  {
   "attachments": {},
   "cell_type": "markdown",
   "metadata": {},
   "source": [
    "#### Dataset import"
   ]
  },
  {
   "cell_type": "code",
   "execution_count": 2,
   "metadata": {},
   "outputs": [
    {
     "data": {
      "text/html": [
       "<div>\n",
       "<style scoped>\n",
       "    .dataframe tbody tr th:only-of-type {\n",
       "        vertical-align: middle;\n",
       "    }\n",
       "\n",
       "    .dataframe tbody tr th {\n",
       "        vertical-align: top;\n",
       "    }\n",
       "\n",
       "    .dataframe thead th {\n",
       "        text-align: right;\n",
       "    }\n",
       "</style>\n",
       "<table border=\"1\" class=\"dataframe\">\n",
       "  <thead>\n",
       "    <tr style=\"text-align: right;\">\n",
       "      <th></th>\n",
       "      <th>id</th>\n",
       "      <th>name</th>\n",
       "      <th>existed_day_count</th>\n",
       "      <th>price_kvnd</th>\n",
       "      <th>list_price_kvnd</th>\n",
       "      <th>original_price_kvnd</th>\n",
       "      <th>discount_kvnd</th>\n",
       "      <th>discount_rate</th>\n",
       "      <th>rating_average</th>\n",
       "      <th>review_count</th>\n",
       "      <th>quantity_sold_count</th>\n",
       "      <th>seller_count</th>\n",
       "      <th>category</th>\n",
       "    </tr>\n",
       "  </thead>\n",
       "  <tbody>\n",
       "    <tr>\n",
       "      <th>0</th>\n",
       "      <td>53434797</td>\n",
       "      <td>Sách Tài Chính Cá Nhân Cho Người Việt Nam - Tặ...</td>\n",
       "      <td>1147</td>\n",
       "      <td>184.0</td>\n",
       "      <td>200.0</td>\n",
       "      <td>200.0</td>\n",
       "      <td>16.0</td>\n",
       "      <td>8</td>\n",
       "      <td>4.7</td>\n",
       "      <td>1754</td>\n",
       "      <td>13092</td>\n",
       "      <td>2</td>\n",
       "      <td>Sách tài chính, tiền tệ</td>\n",
       "    </tr>\n",
       "    <tr>\n",
       "      <th>1</th>\n",
       "      <td>75953557</td>\n",
       "      <td>Tâm Lý Học Về Tiền</td>\n",
       "      <td>888</td>\n",
       "      <td>110.0</td>\n",
       "      <td>189.0</td>\n",
       "      <td>189.0</td>\n",
       "      <td>79.0</td>\n",
       "      <td>42</td>\n",
       "      <td>4.8</td>\n",
       "      <td>3365</td>\n",
       "      <td>22842</td>\n",
       "      <td>17</td>\n",
       "      <td>Sách tài chính, tiền tệ</td>\n",
       "    </tr>\n",
       "    <tr>\n",
       "      <th>2</th>\n",
       "      <td>126853168</td>\n",
       "      <td>Thấu hiểu Hành vi giá Thị trường Tài chính (Un...</td>\n",
       "      <td>627</td>\n",
       "      <td>367.0</td>\n",
       "      <td>367.0</td>\n",
       "      <td>367.0</td>\n",
       "      <td>0.0</td>\n",
       "      <td>0</td>\n",
       "      <td>5.0</td>\n",
       "      <td>248</td>\n",
       "      <td>1459</td>\n",
       "      <td>2</td>\n",
       "      <td>Sách tài chính, tiền tệ</td>\n",
       "    </tr>\n",
       "    <tr>\n",
       "      <th>3</th>\n",
       "      <td>146223395</td>\n",
       "      <td>Cách thức kinh doanh và đầu cơ cổ phiếu! – How...</td>\n",
       "      <td>561</td>\n",
       "      <td>349.0</td>\n",
       "      <td>349.0</td>\n",
       "      <td>349.0</td>\n",
       "      <td>0.0</td>\n",
       "      <td>0</td>\n",
       "      <td>4.8</td>\n",
       "      <td>762</td>\n",
       "      <td>3824</td>\n",
       "      <td>1</td>\n",
       "      <td>Sách tài chính, tiền tệ</td>\n",
       "    </tr>\n",
       "    <tr>\n",
       "      <th>4</th>\n",
       "      <td>53532186</td>\n",
       "      <td>Tuyệt kỹ Giao dịch bằng đồ thị nến Nhật – Japa...</td>\n",
       "      <td>1146</td>\n",
       "      <td>499.0</td>\n",
       "      <td>499.0</td>\n",
       "      <td>499.0</td>\n",
       "      <td>0.0</td>\n",
       "      <td>0</td>\n",
       "      <td>4.8</td>\n",
       "      <td>2263</td>\n",
       "      <td>12664</td>\n",
       "      <td>1</td>\n",
       "      <td>Sách tài chính, tiền tệ</td>\n",
       "    </tr>\n",
       "  </tbody>\n",
       "</table>\n",
       "</div>"
      ],
      "text/plain": [
       "          id                                               name  \\\n",
       "0   53434797  Sách Tài Chính Cá Nhân Cho Người Việt Nam - Tặ...   \n",
       "1   75953557                                 Tâm Lý Học Về Tiền   \n",
       "2  126853168  Thấu hiểu Hành vi giá Thị trường Tài chính (Un...   \n",
       "3  146223395  Cách thức kinh doanh và đầu cơ cổ phiếu! – How...   \n",
       "4   53532186  Tuyệt kỹ Giao dịch bằng đồ thị nến Nhật – Japa...   \n",
       "\n",
       "   existed_day_count  price_kvnd  list_price_kvnd  original_price_kvnd  \\\n",
       "0               1147       184.0            200.0                200.0   \n",
       "1                888       110.0            189.0                189.0   \n",
       "2                627       367.0            367.0                367.0   \n",
       "3                561       349.0            349.0                349.0   \n",
       "4               1146       499.0            499.0                499.0   \n",
       "\n",
       "   discount_kvnd  discount_rate  rating_average  review_count  \\\n",
       "0           16.0              8             4.7          1754   \n",
       "1           79.0             42             4.8          3365   \n",
       "2            0.0              0             5.0           248   \n",
       "3            0.0              0             4.8           762   \n",
       "4            0.0              0             4.8          2263   \n",
       "\n",
       "   quantity_sold_count  seller_count                 category  \n",
       "0                13092             2  Sách tài chính, tiền tệ  \n",
       "1                22842            17  Sách tài chính, tiền tệ  \n",
       "2                 1459             2  Sách tài chính, tiền tệ  \n",
       "3                 3824             1  Sách tài chính, tiền tệ  \n",
       "4                12664             1  Sách tài chính, tiền tệ  "
      ]
     },
     "execution_count": 2,
     "metadata": {},
     "output_type": "execute_result"
    }
   ],
   "source": [
    "# Import the dataset\n",
    "df = pd.read_csv(\"../Data/Tiki_product_data_20230620.csv\")\n",
    "df.head()"
   ]
  },
  {
   "attachments": {},
   "cell_type": "markdown",
   "metadata": {},
   "source": [
    "#### Data overview"
   ]
  },
  {
   "cell_type": "code",
   "execution_count": 3,
   "metadata": {},
   "outputs": [
    {
     "name": "stdout",
     "output_type": "stream",
     "text": [
      "<class 'pandas.core.frame.DataFrame'>\n",
      "RangeIndex: 14399 entries, 0 to 14398\n",
      "Data columns (total 13 columns):\n",
      " #   Column               Non-Null Count  Dtype  \n",
      "---  ------               --------------  -----  \n",
      " 0   id                   14399 non-null  int64  \n",
      " 1   name                 14399 non-null  object \n",
      " 2   existed_day_count    14399 non-null  int64  \n",
      " 3   price_kvnd           14399 non-null  float64\n",
      " 4   list_price_kvnd      14399 non-null  float64\n",
      " 5   original_price_kvnd  14399 non-null  float64\n",
      " 6   discount_kvnd        14399 non-null  float64\n",
      " 7   discount_rate        14399 non-null  int64  \n",
      " 8   rating_average       14399 non-null  float64\n",
      " 9   review_count         14399 non-null  int64  \n",
      " 10  quantity_sold_count  14399 non-null  int64  \n",
      " 11  seller_count         14399 non-null  int64  \n",
      " 12  category             14399 non-null  object \n",
      "dtypes: float64(5), int64(6), object(2)\n",
      "memory usage: 1.4+ MB\n"
     ]
    }
   ],
   "source": [
    "df.info()"
   ]
  },
  {
   "attachments": {},
   "cell_type": "markdown",
   "metadata": {},
   "source": [
    "#### Book name cleaning"
   ]
  },
  {
   "cell_type": "code",
   "execution_count": 4,
   "metadata": {},
   "outputs": [
    {
     "data": {
      "text/plain": [
       "0        sách tài chính cá nhân cho người việt nam   tặ...\n",
       "1                                       tâm lý học về tiền\n",
       "2        thấu hiểu hành vi giá thị trường tài chính  un...\n",
       "3        cách thức kinh doanh và đầu cơ cổ phiếu    how...\n",
       "4        tuyệt kỹ giao dịch bằng đồ thị nến nhật   japa...\n",
       "                               ...                        \n",
       "14394         top những cuốn sách hot nhất về bất động sản\n",
       "14395                      cuốn sách  tinh anh công sở 4.0\n",
       "14396    combo 2 cuốn sách gối đầu để thành công trong ...\n",
       "14397                  thông minh hơn  nhanh hơn  giỏi hơn\n",
       "14398                        trong chớp mắt  tái bản 2015 \n",
       "Name: name_clean, Length: 14399, dtype: object"
      ]
     },
     "execution_count": 4,
     "metadata": {},
     "output_type": "execute_result"
    }
   ],
   "source": [
    "# Function to clean the word of any punctuation or special characters\n",
    "def cleanpunc(sentence): \n",
    "    cleaned = re.sub(r'[^\\w|.]',r' ',sentence)\n",
    "    return  cleaned\n",
    "\n",
    "# Clean the name field\n",
    "df['name_clean'] = df['name'].str.lower()\n",
    "df['name_clean'] = df['name_clean'].apply(cleanpunc)\n",
    "df['name_clean']"
   ]
  },
  {
   "attachments": {},
   "cell_type": "markdown",
   "metadata": {},
   "source": [
    "#### Category numerization"
   ]
  },
  {
   "cell_type": "code",
   "execution_count": 5,
   "metadata": {},
   "outputs": [
    {
     "data": {
      "text/plain": [
       "category_id  category                 \n",
       "0            Bài học kinh doanh           1989\n",
       "1            Sách Marketing - Bán hàng    1996\n",
       "2            Sách doanh nhân              1061\n",
       "3            Sách khởi nghiệp             1165\n",
       "4            Sách kinh tế học             1641\n",
       "5            Sách kỹ năng làm việc        1991\n",
       "6            Sách quản trị nhân lực        412\n",
       "7            Sách quản trị, lãnh đạo      1986\n",
       "8            Sách tài chính, kế toán       323\n",
       "9            Sách tài chính, tiền tệ      1835\n",
       "Name: count, dtype: int64"
      ]
     },
     "execution_count": 5,
     "metadata": {},
     "output_type": "execute_result"
    }
   ],
   "source": [
    "# Numerize the category field\n",
    "LE = LabelEncoder()\n",
    "df['category_id'] = LE.fit_transform(df['category'])\n",
    "df.groupby(['category_id'])['category'].value_counts()"
   ]
  },
  {
   "attachments": {},
   "cell_type": "markdown",
   "metadata": {},
   "source": [
    "## 2. Price Prediction\n",
    "* Base on the numeric non-currency fields, I will build the Linear Regression model to predict the price of the product.\n",
    "#### Feature Selection and Data Splitting"
   ]
  },
  {
   "cell_type": "code",
   "execution_count": 6,
   "metadata": {},
   "outputs": [],
   "source": [
    "# Feature selection\n",
    "x_lr = df.drop(['id', 'name', 'price_kvnd', 'original_price_kvnd', \n",
    "                'discount_kvnd', 'discount_rate', 'category', 'name_clean'], axis = 1)\n",
    "y_lr = df['price_kvnd']\n",
    "\n",
    "# Split the dataset\n",
    "x_train_lr, x_test_lr, y_train_lr, y_test_lr = train_test_split(x_lr, y_lr, random_state = 22)"
   ]
  },
  {
   "attachments": {},
   "cell_type": "markdown",
   "metadata": {},
   "source": [
    "#### Input Data Rescaling "
   ]
  },
  {
   "cell_type": "code",
   "execution_count": 7,
   "metadata": {},
   "outputs": [],
   "source": [
    "# Rescale the input data\n",
    "scaler = StandardScaler()\n",
    "\n",
    "x_train_lr_rescale = pd.DataFrame(scaler.fit_transform(x_train_lr), columns = x_train_lr.columns)\n",
    "x_test_lr_rescale = pd.DataFrame(scaler.fit_transform(x_test_lr), columns = x_test_lr.columns)"
   ]
  },
  {
   "attachments": {},
   "cell_type": "markdown",
   "metadata": {},
   "source": [
    "#### Model Training"
   ]
  },
  {
   "cell_type": "code",
   "execution_count": 8,
   "metadata": {},
   "outputs": [
    {
     "name": "stdout",
     "output_type": "stream",
     "text": [
      "Report of the training LR model\n",
      "Mean absolute error:  19.731920605880493\n",
      "Percentage of mean absolute error: 10.550009072329221\n",
      "Mean squared error: 1254.1927887984\n",
      "Root mean squared error: 35.414584408099444\n"
     ]
    }
   ],
   "source": [
    "# Setup the model\n",
    "lr = LinearRegression()\n",
    "\n",
    "# Run the model on train dataset\n",
    "model_lr = lr.fit(x_train_lr_rescale, y_train_lr)\n",
    "yhat_train_lr = model_lr.predict(x_train_lr_rescale)\n",
    "\n",
    "# Show the report\n",
    "print('Report of the training LR model')\n",
    "print('Mean absolute error: ', mean_absolute_error(y_train_lr, yhat_train_lr))\n",
    "print('Percentage of mean absolute error:', mean_absolute_error(y_train_lr, yhat_train_lr) / np.mean(yhat_train_lr) * 100)\n",
    "print('Mean squared error:', mean_squared_error(y_train_lr, yhat_train_lr))\n",
    "print('Root mean squared error:', np.sqrt(mean_squared_error(y_train_lr, yhat_train_lr)))"
   ]
  },
  {
   "attachments": {},
   "cell_type": "markdown",
   "metadata": {},
   "source": [
    "#### Model Testing"
   ]
  },
  {
   "cell_type": "code",
   "execution_count": 9,
   "metadata": {},
   "outputs": [
    {
     "name": "stdout",
     "output_type": "stream",
     "text": [
      "Report of the testing LR model\n",
      "Mean absolute error: 25.062878886035257\n",
      "Percentage of mean absolute error: 13.400297158481377\n",
      "Mean squared error: 1814.6743794467677\n",
      "Root mean squared error: 42.59899505207567\n"
     ]
    }
   ],
   "source": [
    "# Run the model on test dataset\n",
    "yhat_test_lr = model_lr.predict(x_test_lr_rescale)\n",
    "\n",
    "# Show the report\n",
    "print('Report of the testing LR model')\n",
    "print('Mean absolute error:', mean_absolute_error(y_test_lr, yhat_test_lr))\n",
    "print('Percentage of mean absolute error:', mean_absolute_error(y_test_lr, yhat_test_lr) / np.mean(yhat_test_lr) * 100)\n",
    "print('Mean squared error:', mean_squared_error(y_test_lr, yhat_test_lr))\n",
    "print('Root mean squared error:', np.sqrt(mean_squared_error(y_test_lr, yhat_test_lr)))\n"
   ]
  },
  {
   "attachments": {},
   "cell_type": "markdown",
   "metadata": {},
   "source": [
    "#### Test Result Visualization"
   ]
  },
  {
   "cell_type": "code",
   "execution_count": 10,
   "metadata": {},
   "outputs": [
    {
     "data": {
      "text/plain": [
       "Text(0, 0.5, 'Difference from the real price (x 1000 VND)')"
      ]
     },
     "execution_count": 10,
     "metadata": {},
     "output_type": "execute_result"
    },
    {
     "data": {
      "image/png": "[encoded data removed]",
      "text/plain": [
       "<Figure size 640x480 with 1 Axes>"
      ]
     },
     "metadata": {},
     "output_type": "display_data"
    }
   ],
   "source": [
    "sns.residplot(x = yhat_test_lr, y = y_test_lr)\n",
    "plt.title('Linear Regression Residual Plot')\n",
    "plt.xlabel('Predicted price (x 1000 VND)')\n",
    "plt.ylabel('Difference from the real price (x 1000 VND)')"
   ]
  },
  {
   "attachments": {},
   "cell_type": "markdown",
   "metadata": {},
   "source": [
    "#### Conclusion\n",
    "* Overall, the predicted prices are 13.4% higher or lowers the real ones.\n",
    "* The residual plot shows that the higher the real price, the higher the difference.\n",
    "## 3. Category Classification\n",
    "* I want to see if I can classify the product base on its name. Thus, I build the Random Forest Classification model for this task.\n",
    "#### Feature Selection and Data Splitting"
   ]
  },
  {
   "cell_type": "code",
   "execution_count": 11,
   "metadata": {},
   "outputs": [],
   "source": [
    "# Number of words in book name\n",
    "NUMBER_OF_COMPONENTS = 500\n",
    "\n",
    "# Convert book name to matrix\n",
    "vectorizer = TfidfVectorizer(lowercase = True, analyzer='word', ngram_range = (1, 2), \n",
    "                             min_df = 0.005, max_df = 0.9)\n",
    "svd_truncer = TruncatedSVD(n_components = NUMBER_OF_COMPONENTS)\n",
    "\n",
    "# Feature selection\n",
    "name_mat = vectorizer.fit_transform(df['name_clean'])\n",
    "x_rfc = svd_truncer.fit_transform(name_mat)\n",
    "y_rfc = df['category_id']\n",
    "\n",
    "# Split the dataset\n",
    "x_train_rfc, x_test_rfc, y_train_rfc, y_test_rfc = train_test_split(x_rfc, y_rfc, random_state = 22)"
   ]
  },
  {
   "attachments": {},
   "cell_type": "markdown",
   "metadata": {},
   "source": [
    "#### Model Training"
   ]
  },
  {
   "cell_type": "code",
   "execution_count": 12,
   "metadata": {},
   "outputs": [
    {
     "name": "stdout",
     "output_type": "stream",
     "text": [
      "Report of the training RFC model\n",
      "              precision    recall  f1-score   support\n",
      "\n",
      "           0       0.46      0.73      0.57      1505\n",
      "           1       0.75      0.79      0.77      1498\n",
      "           2       0.95      0.07      0.13       777\n",
      "           3       0.89      0.37      0.52       871\n",
      "           4       0.83      0.42      0.56      1234\n",
      "           5       0.45      0.72      0.55      1516\n",
      "           6       0.97      0.29      0.44       329\n",
      "           7       0.68      0.76      0.72      1465\n",
      "           8       0.96      0.39      0.56       248\n",
      "           9       0.71      0.81      0.76      1356\n",
      "\n",
      "    accuracy                           0.62     10799\n",
      "   macro avg       0.77      0.54      0.56     10799\n",
      "weighted avg       0.70      0.62      0.60     10799\n",
      "\n"
     ]
    }
   ],
   "source": [
    "# Setup the model\n",
    "rfc = RandomForestClassifier(random_state = 22, max_depth = 8, n_estimators = 100)\n",
    "\n",
    "# Run the model on train dataset\n",
    "model_rfc = rfc.fit(x_train_rfc, y_train_rfc) \n",
    "yhat_train_rfc = model_rfc.predict(x_train_rfc)\n",
    "\n",
    "# Show the report\n",
    "print('Report of the training RFC model')\n",
    "print(classification_report(y_train_rfc.values, yhat_train_rfc))"
   ]
  },
  {
   "attachments": {},
   "cell_type": "markdown",
   "metadata": {},
   "source": [
    "#### Model Testing"
   ]
  },
  {
   "cell_type": "code",
   "execution_count": 13,
   "metadata": {},
   "outputs": [
    {
     "name": "stdout",
     "output_type": "stream",
     "text": [
      "Report of the testing RFC model\n",
      "              precision    recall  f1-score   support\n",
      "\n",
      "           0       0.34      0.55      0.42       484\n",
      "           1       0.68      0.73      0.71       498\n",
      "           2       0.88      0.05      0.10       284\n",
      "           3       0.88      0.36      0.51       294\n",
      "           4       0.71      0.29      0.41       407\n",
      "           5       0.33      0.57      0.42       475\n",
      "           6       0.88      0.18      0.30        83\n",
      "           7       0.60      0.64      0.62       521\n",
      "           8       0.92      0.48      0.63        75\n",
      "           9       0.62      0.70      0.66       479\n",
      "\n",
      "    accuracy                           0.52      3600\n",
      "   macro avg       0.68      0.46      0.48      3600\n",
      "weighted avg       0.61      0.52      0.50      3600\n",
      "\n"
     ]
    }
   ],
   "source": [
    "# Run the model on test dataset\n",
    "yhat_test_rfc = model_rfc.predict(x_test_rfc)\n",
    "\n",
    "# Show the report\n",
    "print('Report of the testing RFC model')\n",
    "print(classification_report(y_test_rfc.values, yhat_test_rfc))"
   ]
  },
  {
   "attachments": {},
   "cell_type": "markdown",
   "metadata": {},
   "source": [
    "#### Conclusion\n",
    "* The model work best for category 3 and 8 (high precision and acceptable F1 score). Category 0 and 5 have the most unreliable predictions.\n",
    "* Since the Tiki product name is not consistent with no particular structure, more manual preprocessing works are required for better model.\n",
    "## 4. Popularity clustering\n",
    "* I try to classify the popularity of each product, which is not labeled in the dataset. Therefore, an unsupervised K-mean Clustering model is applied in here.\n",
    "#### Fearture Selection and Rescaling"
   ]
  },
  {
   "cell_type": "code",
   "execution_count": 14,
   "metadata": {},
   "outputs": [],
   "source": [
    "# Feature selection\n",
    "x_cl = df[['existed_day_count', 'rating_average', 'review_count', 'quantity_sold_count', 'seller_count']]\n",
    "\n",
    "# Rescale the input data\n",
    "scaler = StandardScaler()\n",
    "\n",
    "x_cl_rescale = pd.DataFrame(scaler.fit_transform(x_cl), columns = x_cl.columns)\n"
   ]
  },
  {
   "attachments": {},
   "cell_type": "markdown",
   "metadata": {},
   "source": [
    "#### K-mean number selection"
   ]
  },
  {
   "cell_type": "code",
   "execution_count": 15,
   "metadata": {},
   "outputs": [
    {
     "data": {
      "image/png": "[encoded data removed]",
      "text/plain": [
       "<Figure size 640x480 with 1 Axes>"
      ]
     },
     "metadata": {},
     "output_type": "display_data"
    }
   ],
   "source": [
    "# Find the best number of clusters\n",
    "sum_of_squared_distances = []\n",
    "K = range(2,10)\n",
    "for k in K:\n",
    "   km = KMeans(n_clusters = k, max_iter = 600, n_init = 10)\n",
    "   km.fit(x_cl_rescale)\n",
    "   sum_of_squared_distances.append(km.inertia_)\n",
    "\n",
    "# Plot the result\n",
    "plt.plot(K, sum_of_squared_distances, 'bx-')\n",
    "plt.xlabel('Number of clusters')\n",
    "plt.ylabel('Sum of squared distances')\n",
    "plt.title('Elbow Method For Optimal k')\n",
    "plt.show()"
   ]
  },
  {
   "attachments": {},
   "cell_type": "markdown",
   "metadata": {},
   "source": [
    "* Since the scope change significantly from 3 to 4 clusters, the optimal value here is 3.\n",
    "#### Model Building"
   ]
  },
  {
   "cell_type": "code",
   "execution_count": 16,
   "metadata": {},
   "outputs": [
    {
     "name": "stdout",
     "output_type": "stream",
     "text": [
      "       cluster                                               name  \\\n",
      "7199         0          Sách - Content và Nghệ thuật Storytelling   \n",
      "9107         0  Quan hệ pháp lý giữa Nhà nước và doanh nghiệp ...   \n",
      "9109         0  Đầu Tư Dễ Ợt - Sách Chứng Khoán Của Người Việt...   \n",
      "9111         0         Kinh Doanh Dựa Trên Thành Viên - Bản Quyền   \n",
      "9112         0  Những đế chế công nghệ số (How they started di...   \n",
      "...        ...                                                ...   \n",
      "8577         2  Dịch Vụ Logistics Ở Việt Nam Trong Tiến Trình ...   \n",
      "8576         2                          Tương Lai Thuộc Về Châu Á   \n",
      "8575         2  Designa -  Những bí quyết kỹ thuật của nghệ th...   \n",
      "8589         2  Quản trị liên văn hóa với đóng góp của ngành K...   \n",
      "10228        2          Làm Chủ Tư Duy, Thay Đổi Vận Mệnh ( 2019)   \n",
      "\n",
      "       existed_day_count  rating_average  review_count  quantity_sold_count  \\\n",
      "7199                 496             0.0             0                    2   \n",
      "9107                  86             0.0             0                    0   \n",
      "9109                 189             0.0             0                    1   \n",
      "9111                 186             0.0             0                    0   \n",
      "9112                 691             0.0             0                    0   \n",
      "...                  ...             ...           ...                  ...   \n",
      "8577                1375             5.0             1                    3   \n",
      "8576                1107             4.8            12                   62   \n",
      "8575                 308             4.6            10                  103   \n",
      "8589                 637             4.8            23                  221   \n",
      "10228               1357             5.0            68                  616   \n",
      "\n",
      "       seller_count  \n",
      "7199              4  \n",
      "9107              1  \n",
      "9109              1  \n",
      "9111              5  \n",
      "9112              4  \n",
      "...             ...  \n",
      "8577              2  \n",
      "8576              7  \n",
      "8575              7  \n",
      "8589              6  \n",
      "10228             3  \n",
      "\n",
      "[14399 rows x 7 columns]\n"
     ]
    }
   ],
   "source": [
    "# Get clusters\n",
    "true_km = 3\n",
    "model_km = KMeans(n_clusters = true_km, init = 'k-means++', max_iter = 600, n_init = 10)\n",
    "model_km.fit(x_cl_rescale)\n",
    "\n",
    "# Get prediction/ labels\n",
    "labels = model_km.labels_\n",
    "book_popular = pd.DataFrame(list(zip(labels, df['name'], df['existed_day_count'], df['rating_average'], df['review_count'], \n",
    "                                     df['quantity_sold_count'], df['seller_count'])), \n",
    "                            columns = ['cluster', 'name','existed_day_count', 'rating_average', 'review_count', \n",
    "                                       'quantity_sold_count', 'seller_count'])\n",
    "print(book_popular.sort_values(by = ['cluster']))"
   ]
  },
  {
   "attachments": {},
   "cell_type": "markdown",
   "metadata": {},
   "source": [
    "#### Resulting Visualization"
   ]
  },
  {
   "cell_type": "code",
   "execution_count": 17,
   "metadata": {},
   "outputs": [
    {
     "data": {
      "image/png": "[encoded data removed]",
      "text/plain": [
       "<Figure size 640x480 with 1 Axes>"
      ]
     },
     "metadata": {},
     "output_type": "display_data"
    }
   ],
   "source": [
    "# Show the result\n",
    "sns.scatterplot(data = book_popular, x = 'review_count', y = 'quantity_sold_count', hue = 'cluster')\n",
    "plt.xlabel('Number of Review')\n",
    "plt.ylabel('Number of Quantity Sold')\n",
    "plt.title('Total Review vs Total Quantity Sold')\n",
    "plt.show()"
   ]
  },
  {
   "attachments": {},
   "cell_type": "markdown",
   "metadata": {},
   "source": [
    "#### Conclusion\n",
    "* The model follow mainly the relationship between the total review and total quantity sold.\n",
    "* Cluster 1 stands for the most popular products, while cluster 2 are the least ones."
   ]
  }
 ],
 "metadata": {
  "kernelspec": {
   "display_name": "Python 3",
   "language": "python",
   "name": "python3"
  },
  "language_info": {
   "codemirror_mode": {
    "name": "ipython",
    "version": 3
   },
   "file_extension": ".py",
   "mimetype": "text/x-python",
   "name": "python",
   "nbconvert_exporter": "python",
   "pygments_lexer": "ipython3",
   "version": "3.11.3"
  },
  "orig_nbformat": 4
 },
 "nbformat": 4,
 "nbformat_minor": 2
}
