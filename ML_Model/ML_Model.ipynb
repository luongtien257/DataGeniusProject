{
 "cells": [
  {
   "cell_type": "code",
   "execution_count": 90,
   "metadata": {},
   "outputs": [],
   "source": [
    "import re\n",
    "import pandas as pd\n",
    "import numpy as np\n",
    "import matplotlib.pyplot as plt\n",
    "import seaborn as sns\n",
    "from wordcloud import WordCloud\n",
    "\n",
    "from sklearn.feature_extraction.text import TfidfVectorizer\n",
    "from sklearn.decomposition import TruncatedSVD\n",
    "from sklearn.model_selection import train_test_split\n",
    "from sklearn.preprocessing import LabelEncoder\n",
    "\n",
    "from sklearn.metrics import confusion_matrix\n",
    "from sklearn.metrics import classification_report\n",
    "\n",
    "from sklearn.ensemble import RandomForestClassifier\n"
   ]
  },
  {
   "cell_type": "code",
   "execution_count": 91,
   "metadata": {},
   "outputs": [
    {
     "data": {
      "text/html": [
       "<div>\n",
       "<style scoped>\n",
       "    .dataframe tbody tr th:only-of-type {\n",
       "        vertical-align: middle;\n",
       "    }\n",
       "\n",
       "    .dataframe tbody tr th {\n",
       "        vertical-align: top;\n",
       "    }\n",
       "\n",
       "    .dataframe thead th {\n",
       "        text-align: right;\n",
       "    }\n",
       "</style>\n",
       "<table border=\"1\" class=\"dataframe\">\n",
       "  <thead>\n",
       "    <tr style=\"text-align: right;\">\n",
       "      <th></th>\n",
       "      <th>id</th>\n",
       "      <th>name</th>\n",
       "      <th>existed_day_count</th>\n",
       "      <th>price_kvnd</th>\n",
       "      <th>list_price_kvnd</th>\n",
       "      <th>original_price_kvnd</th>\n",
       "      <th>discount_kvnd</th>\n",
       "      <th>discount_rate</th>\n",
       "      <th>rating_average</th>\n",
       "      <th>review_count</th>\n",
       "      <th>quantity_sold_count</th>\n",
       "      <th>seller_count</th>\n",
       "      <th>category</th>\n",
       "    </tr>\n",
       "  </thead>\n",
       "  <tbody>\n",
       "    <tr>\n",
       "      <th>0</th>\n",
       "      <td>53434797</td>\n",
       "      <td>Sách Tài Chính Cá Nhân Cho Người Việt Nam - Tặ...</td>\n",
       "      <td>1147</td>\n",
       "      <td>184.0</td>\n",
       "      <td>200.0</td>\n",
       "      <td>200.0</td>\n",
       "      <td>16.0</td>\n",
       "      <td>8</td>\n",
       "      <td>4.7</td>\n",
       "      <td>1754</td>\n",
       "      <td>13092</td>\n",
       "      <td>2</td>\n",
       "      <td>Sách tài chính, tiền tệ</td>\n",
       "    </tr>\n",
       "    <tr>\n",
       "      <th>1</th>\n",
       "      <td>75953557</td>\n",
       "      <td>Tâm Lý Học Về Tiền</td>\n",
       "      <td>888</td>\n",
       "      <td>110.0</td>\n",
       "      <td>189.0</td>\n",
       "      <td>189.0</td>\n",
       "      <td>79.0</td>\n",
       "      <td>42</td>\n",
       "      <td>4.8</td>\n",
       "      <td>3365</td>\n",
       "      <td>22842</td>\n",
       "      <td>17</td>\n",
       "      <td>Sách tài chính, tiền tệ</td>\n",
       "    </tr>\n",
       "    <tr>\n",
       "      <th>2</th>\n",
       "      <td>126853168</td>\n",
       "      <td>Thấu hiểu Hành vi giá Thị trường Tài chính (Un...</td>\n",
       "      <td>627</td>\n",
       "      <td>367.0</td>\n",
       "      <td>367.0</td>\n",
       "      <td>367.0</td>\n",
       "      <td>0.0</td>\n",
       "      <td>0</td>\n",
       "      <td>5.0</td>\n",
       "      <td>248</td>\n",
       "      <td>1459</td>\n",
       "      <td>2</td>\n",
       "      <td>Sách tài chính, tiền tệ</td>\n",
       "    </tr>\n",
       "    <tr>\n",
       "      <th>3</th>\n",
       "      <td>146223395</td>\n",
       "      <td>Cách thức kinh doanh và đầu cơ cổ phiếu! – How...</td>\n",
       "      <td>561</td>\n",
       "      <td>349.0</td>\n",
       "      <td>349.0</td>\n",
       "      <td>349.0</td>\n",
       "      <td>0.0</td>\n",
       "      <td>0</td>\n",
       "      <td>4.8</td>\n",
       "      <td>762</td>\n",
       "      <td>3824</td>\n",
       "      <td>1</td>\n",
       "      <td>Sách tài chính, tiền tệ</td>\n",
       "    </tr>\n",
       "    <tr>\n",
       "      <th>4</th>\n",
       "      <td>53532186</td>\n",
       "      <td>Tuyệt kỹ Giao dịch bằng đồ thị nến Nhật – Japa...</td>\n",
       "      <td>1146</td>\n",
       "      <td>499.0</td>\n",
       "      <td>499.0</td>\n",
       "      <td>499.0</td>\n",
       "      <td>0.0</td>\n",
       "      <td>0</td>\n",
       "      <td>4.8</td>\n",
       "      <td>2263</td>\n",
       "      <td>12664</td>\n",
       "      <td>1</td>\n",
       "      <td>Sách tài chính, tiền tệ</td>\n",
       "    </tr>\n",
       "  </tbody>\n",
       "</table>\n",
       "</div>"
      ],
      "text/plain": [
       "          id                                               name  \\\n",
       "0   53434797  Sách Tài Chính Cá Nhân Cho Người Việt Nam - Tặ...   \n",
       "1   75953557                                 Tâm Lý Học Về Tiền   \n",
       "2  126853168  Thấu hiểu Hành vi giá Thị trường Tài chính (Un...   \n",
       "3  146223395  Cách thức kinh doanh và đầu cơ cổ phiếu! – How...   \n",
       "4   53532186  Tuyệt kỹ Giao dịch bằng đồ thị nến Nhật – Japa...   \n",
       "\n",
       "   existed_day_count  price_kvnd  list_price_kvnd  original_price_kvnd  \\\n",
       "0               1147       184.0            200.0                200.0   \n",
       "1                888       110.0            189.0                189.0   \n",
       "2                627       367.0            367.0                367.0   \n",
       "3                561       349.0            349.0                349.0   \n",
       "4               1146       499.0            499.0                499.0   \n",
       "\n",
       "   discount_kvnd  discount_rate  rating_average  review_count  \\\n",
       "0           16.0              8             4.7          1754   \n",
       "1           79.0             42             4.8          3365   \n",
       "2            0.0              0             5.0           248   \n",
       "3            0.0              0             4.8           762   \n",
       "4            0.0              0             4.8          2263   \n",
       "\n",
       "   quantity_sold_count  seller_count                 category  \n",
       "0                13092             2  Sách tài chính, tiền tệ  \n",
       "1                22842            17  Sách tài chính, tiền tệ  \n",
       "2                 1459             2  Sách tài chính, tiền tệ  \n",
       "3                 3824             1  Sách tài chính, tiền tệ  \n",
       "4                12664             1  Sách tài chính, tiền tệ  "
      ]
     },
     "execution_count": 91,
     "metadata": {},
     "output_type": "execute_result"
    }
   ],
   "source": [
    "df = pd.read_csv(\"../Data/Tiki_product_data_20230620.csv\")\n",
    "df.head()"
   ]
  },
  {
   "cell_type": "code",
   "execution_count": 92,
   "metadata": {},
   "outputs": [
    {
     "name": "stdout",
     "output_type": "stream",
     "text": [
      "<class 'pandas.core.frame.DataFrame'>\n",
      "RangeIndex: 14399 entries, 0 to 14398\n",
      "Data columns (total 13 columns):\n",
      " #   Column               Non-Null Count  Dtype  \n",
      "---  ------               --------------  -----  \n",
      " 0   id                   14399 non-null  int64  \n",
      " 1   name                 14399 non-null  object \n",
      " 2   existed_day_count    14399 non-null  int64  \n",
      " 3   price_kvnd           14399 non-null  float64\n",
      " 4   list_price_kvnd      14399 non-null  float64\n",
      " 5   original_price_kvnd  14399 non-null  float64\n",
      " 6   discount_kvnd        14399 non-null  float64\n",
      " 7   discount_rate        14399 non-null  int64  \n",
      " 8   rating_average       14399 non-null  float64\n",
      " 9   review_count         14399 non-null  int64  \n",
      " 10  quantity_sold_count  14399 non-null  int64  \n",
      " 11  seller_count         14399 non-null  int64  \n",
      " 12  category             14399 non-null  object \n",
      "dtypes: float64(5), int64(6), object(2)\n",
      "memory usage: 1.4+ MB\n"
     ]
    }
   ],
   "source": [
    "df.info()"
   ]
  },
  {
   "cell_type": "code",
   "execution_count": 93,
   "metadata": {},
   "outputs": [
    {
     "data": {
      "text/plain": [
       "0        sách tài chính cá nhân cho người việt nam   tặ...\n",
       "1                                       tâm lý học về tiền\n",
       "2        thấu hiểu hành vi giá thị trường tài chính  un...\n",
       "3        cách thức kinh doanh và đầu cơ cổ phiếu    how...\n",
       "4        tuyệt kỹ giao dịch bằng đồ thị nến nhật   japa...\n",
       "                               ...                        \n",
       "14394         top những cuốn sách hot nhất về bất động sản\n",
       "14395                      cuốn sách  tinh anh công sở 4 0\n",
       "14396    combo 2 cuốn sách gối đầu để thành công trong ...\n",
       "14397                  thông minh hơn  nhanh hơn  giỏi hơn\n",
       "14398                        trong chớp mắt  tái bản 2015 \n",
       "Name: name_clean, Length: 14399, dtype: object"
      ]
     },
     "execution_count": 93,
     "metadata": {},
     "output_type": "execute_result"
    }
   ],
   "source": [
    "# Function to clean the word of any punctuation or special characters\n",
    "def cleanpunc(sentence): \n",
    "    cleaned = re.sub(r'\\W',r' ',sentence)\n",
    "    return  cleaned\n",
    "\n",
    "df['name_clean'] = df['name'].str.lower()\n",
    "df['name_clean'] = df['name_clean'].apply(cleanpunc)\n",
    "#df['name_clean'] = df['name_clean'].str.replace('tái bản', '')\n",
    "#df['name_clean'] = df['name_clean'].str.replace('bản quyền', '')\n",
    "df['name_clean']"
   ]
  },
  {
   "cell_type": "code",
   "execution_count": 94,
   "metadata": {},
   "outputs": [],
   "source": [
    "LE = LabelEncoder()\n",
    "df['category_id'] = LE.fit_transform(df['category'])"
   ]
  },
  {
   "cell_type": "code",
   "execution_count": 95,
   "metadata": {},
   "outputs": [],
   "source": [
    "# Number of words in book name\n",
    "NUMBER_OF_COMPONENTS = 350\n",
    "\n",
    "vectorizer = TfidfVectorizer(lowercase = True, analyzer='word', ngram_range = (1, 2), \n",
    "                             min_df = 0.01, max_df = 0.9)\n",
    "svd_truncer = TruncatedSVD(n_components = NUMBER_OF_COMPONENTS)\n",
    "\n",
    "name_mat = vectorizer.fit_transform(df['name_clean'])\n",
    "name_mat = svd_truncer.fit_transform(name_mat)"
   ]
  },
  {
   "cell_type": "code",
   "execution_count": 99,
   "metadata": {},
   "outputs": [],
   "source": [
    "train_x, test_x, train_y, test_y = train_test_split(name_mat, df['category_id'], random_state = 22)\n",
    "\n",
    "rfc = RandomForestClassifier(random_state = 22, max_depth = 10, n_estimators = 100)\n",
    "\n",
    "model_rfc = rfc.fit(train_x, train_y) \n",
    "\n",
    "train_yhat = rfc.predict(train_x)\n"
   ]
  },
  {
   "cell_type": "code",
   "execution_count": 100,
   "metadata": {},
   "outputs": [
    {
     "name": "stdout",
     "output_type": "stream",
     "text": [
      "Report of the model\n",
      "              precision    recall  f1-score   support\n",
      "\n",
      "           0       0.54      0.81      0.65      1505\n",
      "           1       0.80      0.81      0.81      1498\n",
      "           2       0.96      0.21      0.34       777\n",
      "           3       0.90      0.45      0.60       871\n",
      "           4       0.88      0.59      0.71      1234\n",
      "           5       0.50      0.82      0.62      1516\n",
      "           6       0.94      0.40      0.56       329\n",
      "           7       0.78      0.79      0.79      1465\n",
      "           8       0.99      0.58      0.73       248\n",
      "           9       0.82      0.80      0.81      1356\n",
      "\n",
      "    accuracy                           0.69     10799\n",
      "   macro avg       0.81      0.63      0.66     10799\n",
      "weighted avg       0.76      0.69      0.69     10799\n",
      "\n"
     ]
    }
   ],
   "source": [
    "print('Report of the model')\n",
    "print(classification_report(train_y.values, train_yhat))"
   ]
  },
  {
   "cell_type": "code",
   "execution_count": 101,
   "metadata": {},
   "outputs": [
    {
     "name": "stdout",
     "output_type": "stream",
     "text": [
      "Report of the model\n",
      "              precision    recall  f1-score   support\n",
      "\n",
      "           0       0.35      0.54      0.43       484\n",
      "           1       0.67      0.74      0.71       498\n",
      "           2       0.72      0.08      0.15       284\n",
      "           3       0.82      0.41      0.55       294\n",
      "           4       0.69      0.38      0.49       407\n",
      "           5       0.34      0.61      0.44       475\n",
      "           6       0.84      0.25      0.39        83\n",
      "           7       0.64      0.63      0.64       521\n",
      "           8       0.90      0.49      0.64        75\n",
      "           9       0.65      0.66      0.65       479\n",
      "\n",
      "    accuracy                           0.53      3600\n",
      "   macro avg       0.66      0.48      0.51      3600\n",
      "weighted avg       0.61      0.53      0.53      3600\n",
      "\n"
     ]
    }
   ],
   "source": [
    "test_yhat = rfc.predict(test_x)\n",
    "print('Report of the model')\n",
    "print(classification_report(test_y.values, test_yhat))"
   ]
  }
 ],
 "metadata": {
  "kernelspec": {
   "display_name": "Python 3",
   "language": "python",
   "name": "python3"
  },
  "language_info": {
   "codemirror_mode": {
    "name": "ipython",
    "version": 3
   },
   "file_extension": ".py",
   "mimetype": "text/x-python",
   "name": "python",
   "nbconvert_exporter": "python",
   "pygments_lexer": "ipython3",
   "version": "3.11.3"
  },
  "orig_nbformat": 4
 },
 "nbformat": 4,
 "nbformat_minor": 2
}
